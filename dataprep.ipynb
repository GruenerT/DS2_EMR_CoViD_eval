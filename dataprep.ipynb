{
 "cells": [
  {
   "cell_type": "markdown",
   "metadata": {},
   "source": [
    "# Prep incidence files"
   ]
  },
  {
   "cell_type": "code",
   "execution_count": 1,
   "metadata": {},
   "outputs": [],
   "source": [
    "%matplotlib inline"
   ]
  },
  {
   "cell_type": "code",
   "execution_count": 2,
   "metadata": {},
   "outputs": [],
   "source": [
    "import pandas as pd\n",
    "import numpy as np\n",
    "\n",
    "import utility.init as util"
   ]
  },
  {
   "cell_type": "markdown",
   "metadata": {},
   "source": [
    "# Target master data\n",
    "\n",
    "Date | Province_Id | Daily_Total | Daily_100k | N_Day_Rate | N_Day_Rate_Change | N_Day_Rate_Change_Sliding_Window\n",
    "\n"
   ]
  },
  {
   "cell_type": "code",
   "execution_count": 3,
   "metadata": {},
   "outputs": [],
   "source": [
    "emr_cols = ['Date', 'Province_Id', 'Daily_Total', 'Daily_100k', 'N_Day_Rate','N_Day_Rate_Change','N_Day_Rate_Change_Sliding_Window']"
   ]
  },
  {
   "cell_type": "markdown",
   "metadata": {},
   "source": [
    "# Helpers"
   ]
  },
  {
   "cell_type": "code",
   "execution_count": 4,
   "metadata": {},
   "outputs": [],
   "source": [
    "# cumulative total to daily total\n",
    "def daily_incident_rate(df, totalCol):\n",
    "    df_c = df.copy()\n",
    "    for province in df_c['Province_Id'].unique():\n",
    "        mask = df_c['Province_Id'] == province \n",
    "        df_c.loc[mask, 'Daily_Total'] = df_c.loc[mask, totalCol].rolling(2).apply(lambda x : x[1]-x[0], raw=True )\n",
    "    return df_c\n",
    "\n",
    "\n",
    "def daily_per_100k(df):\n",
    "    df_c = df.copy()\n",
    "    for province in df_c['Province_Id'].unique():\n",
    "        mask = df_c['Province_Id'] == province \n",
    "        df_c.loc[mask, 'Daily_100k'] = (df_c.loc[mask, 'Daily_Total'] / util.province_size[province]) * 100000\n",
    "    return df_c"
   ]
  },
  {
   "cell_type": "code",
   "execution_count": 5,
   "metadata": {},
   "outputs": [],
   "source": [
    "def calc_change_factor(window):\n",
    "    return window[1]/window[0]\n",
    "\n",
    "# Change rate\n",
    "def incident_rate_change(df):\n",
    "    df_c = df.copy()\n",
    "    for province in df_c['Province_Id'].unique():\n",
    "        mask = df_c['Province_Id'] == province \n",
    "        df_c.loc[mask, 'N_Day_Rate_Change'] = df_c.loc[mask, 'N_Day_Rate'].rolling(2).apply(calc_change_factor, raw=True )\n",
    "    return df_c\n",
    "\n",
    "# Add sliding window change rate\n",
    "def sliding_window_change_rate(df):\n",
    "    df_c = df.copy()\n",
    "    for province in df_c['Province_Id'].unique():\n",
    "        mask = df_c['Province_Id'] == province\n",
    "        df_c.loc[mask, 'N_Day_Rate_Change_Sliding_Window'] = df_c.loc[mask, 'N_Day_Rate_Change'].rolling(util.change_rate_window_size).mean()\n",
    "    return df_c"
   ]
  },
  {
   "cell_type": "markdown",
   "metadata": {},
   "source": [
    "# Select belgian data"
   ]
  },
  {
   "cell_type": "code",
   "execution_count": 6,
   "metadata": {},
   "outputs": [],
   "source": [
    "be_provs = ['Liège','Limburg']\n",
    "be_df = pd.DataFrame(columns=emr_cols)\n",
    "\n",
    "be_raw = pd.read_csv(util.data_dir + 'orig/COVID19BE_CASES_AGESEX.csv', sep=',')\n",
    "be_raw = be_raw[be_raw['PROVINCE'].isin(be_provs)]\n",
    "be_raw = be_raw[be_raw.DATE.notnull()]\n",
    "be_raw.loc[be_raw['PROVINCE']=='Liège','Province_Id'] = 11\n",
    "be_raw.loc[be_raw['PROVINCE']=='Limburg','Province_Id'] = 12\n",
    "\n",
    "be_raw = be_raw.rename(columns={\"DATE\":\"Date\", \"CASES\": \"Daily_Total\"})\n",
    "\n",
    "be_raw = be_raw.groupby(['Date','Province_Id']).sum().reset_index()\n",
    "be_df = be_df.append(be_raw, ignore_index=True)\n",
    "\n",
    "be_total = be_raw.groupby(['Date']).sum().reset_index()\n",
    "be_total['Province_Id'] = 10\n",
    "be_df = be_df.append(be_total, ignore_index=True)"
   ]
  },
  {
   "cell_type": "markdown",
   "metadata": {},
   "source": [
    "# Select dutch data"
   ]
  },
  {
   "cell_type": "code",
   "execution_count": 7,
   "metadata": {},
   "outputs": [],
   "source": [
    "nl_provs = ['Limburg']\n",
    "nl_df = pd.DataFrame(columns=emr_cols)\n",
    "\n",
    "nl_raw = pd.read_csv(util.data_dir + 'orig/COVID-19_aantallen_gemeente_cumulatief.csv', sep=';')\n",
    "nl_raw = nl_raw[nl_raw['Province'].isin(nl_provs)]\n",
    "nl_raw = nl_raw.rename(columns={\"Date_of_report\":\"Date\",\"Total_reported\":\"Daily_Total\"})\n",
    "nl_raw = nl_raw.groupby(['Date']).sum().reset_index()\n",
    "nl_raw['Province_Id'] = 20\n",
    "\n",
    "nl_raw = daily_incident_rate(nl_raw, 'Daily_Total')\n",
    "nl_raw['Date'] = nl_raw['Date'].str[:10]\n",
    "nl_raw['Daily_Total'] = nl_raw['Daily_Total'].shift(periods=-1)\n",
    "nl_raw = nl_raw[nl_raw.Daily_Total.notnull()]\n",
    "\n",
    "nl_df = nl_df.append(nl_raw, ignore_index=True)"
   ]
  },
  {
   "cell_type": "markdown",
   "metadata": {},
   "source": [
    "# Select DE data"
   ]
  },
  {
   "cell_type": "code",
   "execution_count": 8,
   "metadata": {},
   "outputs": [],
   "source": [
    "de_df = pd.DataFrame(columns=emr_cols)\n",
    "de_raw = pd.read_csv(util.data_dir + 'orig/RKI_COVID19.csv', sep=',')\n",
    "\n",
    "de_raw = de_raw[de_raw['Landkreis'].isin(util.province_id.keys())]\n",
    "for lk, id in util.province_id.items():\n",
    "    de_raw.loc[de_raw['Landkreis'] == lk, 'Province_Id'] = id\n",
    "\n",
    "de_raw = de_raw.rename(columns={\"Refdatum\":\"Date\",\"AnzahlFall\":\"Daily_Total\"})\n",
    "de_raw['Date'] = de_raw['Date'].str[:4] + '-' + de_raw['Date'].str[5:7]+ '-' + de_raw['Date'].str[8:10]\n",
    "\n",
    "de_raw = de_raw.groupby(['Date', 'Province_Id']).sum().reset_index()\n",
    "\n",
    "de_df = de_df.append(de_raw, ignore_index=True)\n",
    "\n",
    "de_total = de_raw.groupby(['Date']).sum().reset_index()\n",
    "de_total['Province_Id'] = 30\n",
    "de_df = de_df.append(de_total, ignore_index=True)\n"
   ]
  },
  {
   "cell_type": "code",
   "execution_count": 9,
   "metadata": {},
   "outputs": [],
   "source": [
    "emr_df = pd.DataFrame(columns=emr_cols)\n",
    "\n",
    "emr_df = emr_df.append(be_df, ignore_index=True)\n",
    "emr_df = emr_df.append(nl_df, ignore_index=True)\n",
    "emr_df = emr_df.append(de_df, ignore_index=True)\n",
    "\n",
    "emr_df = emr_df.loc[:,:'N_Day_Rate_Change_Sliding_Window']\n",
    "\n",
    "# Add EMR total\n",
    "emr_total = emr_df.groupby(['Date']).sum().reset_index()\n",
    "emr_total['Province_Id'] = 40\n",
    "emr_df = emr_df.append(emr_total, ignore_index=True)\n",
    "\n",
    "emr_df = emr_df.loc[emr_df['Date'] >= util.timeframe_start]\n",
    "emr_df = emr_df.loc[emr_df['Date'] <= util.timeframe_end]\n",
    "emr_df = emr_df.sort_values(by=['Date', 'Province_Id'])"
   ]
  },
  {
   "cell_type": "markdown",
   "metadata": {},
   "source": [
    "# Add derived attributes"
   ]
  },
  {
   "cell_type": "code",
   "execution_count": 10,
   "metadata": {},
   "outputs": [],
   "source": [
    "emr_df = emr_df.sort_values(by=['Date'])\n",
    "\n",
    "# scale to 100k\n",
    "emr_df = daily_per_100k(emr_df)\n",
    "\n",
    "# N-Day Rate\n",
    "emr_df['N_Day_Rate'] = emr_df['Daily_100k'].rolling(util.incident_window_size).sum()\n",
    "\n",
    "# Rate Change\n",
    "emr_df = incident_rate_change(emr_df)\n",
    "\n",
    "emr_df = sliding_window_change_rate(emr_df)"
   ]
  },
  {
   "cell_type": "markdown",
   "metadata": {},
   "source": [
    "# Save to disc"
   ]
  },
  {
   "cell_type": "code",
   "execution_count": 11,
   "metadata": {},
   "outputs": [],
   "source": [
    "emr_df.to_csv(util.emr_infection_data)"
   ]
  },
  {
   "cell_type": "markdown",
   "metadata": {},
   "source": [
    "# Verify data completeness"
   ]
  },
  {
   "cell_type": "code",
   "execution_count": 14,
   "metadata": {},
   "outputs": [
    {
     "ename": "AttributeError",
     "evalue": "'Series' object has no attribute 'freq'",
     "output_type": "error",
     "traceback": [
      "\u001b[1;31m---------------------------------------------------------------------------\u001b[0m",
      "\u001b[1;31mAttributeError\u001b[0m                            Traceback (most recent call last)",
      "\u001b[1;32m<ipython-input-14-4587ba093d17>\u001b[0m in \u001b[0;36m<module>\u001b[1;34m\u001b[0m\n\u001b[0;32m      1\u001b[0m (emr_df.index == pd.date_range(start=emr_df.Date.min(),\n\u001b[0;32m      2\u001b[0m                              \u001b[0mend\u001b[0m\u001b[1;33m=\u001b[0m\u001b[0memr_df\u001b[0m\u001b[1;33m.\u001b[0m\u001b[0mDate\u001b[0m\u001b[1;33m.\u001b[0m\u001b[0mmax\u001b[0m\u001b[1;33m(\u001b[0m\u001b[1;33m)\u001b[0m\u001b[1;33m,\u001b[0m\u001b[1;33m\u001b[0m\u001b[1;33m\u001b[0m\u001b[0m\n\u001b[1;32m----> 3\u001b[1;33m                              freq=emr_df.Date.freq)).all()\n\u001b[0m",
      "\u001b[1;32mH:\\14_Python\\miniconda3\\envs\\Lab1\\lib\\site-packages\\pandas\\core\\generic.py\u001b[0m in \u001b[0;36m__getattr__\u001b[1;34m(self, name)\u001b[0m\n\u001b[0;32m   5463\u001b[0m             \u001b[1;32mif\u001b[0m \u001b[0mself\u001b[0m\u001b[1;33m.\u001b[0m\u001b[0m_info_axis\u001b[0m\u001b[1;33m.\u001b[0m\u001b[0m_can_hold_identifiers_and_holds_name\u001b[0m\u001b[1;33m(\u001b[0m\u001b[0mname\u001b[0m\u001b[1;33m)\u001b[0m\u001b[1;33m:\u001b[0m\u001b[1;33m\u001b[0m\u001b[1;33m\u001b[0m\u001b[0m\n\u001b[0;32m   5464\u001b[0m                 \u001b[1;32mreturn\u001b[0m \u001b[0mself\u001b[0m\u001b[1;33m[\u001b[0m\u001b[0mname\u001b[0m\u001b[1;33m]\u001b[0m\u001b[1;33m\u001b[0m\u001b[1;33m\u001b[0m\u001b[0m\n\u001b[1;32m-> 5465\u001b[1;33m             \u001b[1;32mreturn\u001b[0m \u001b[0mobject\u001b[0m\u001b[1;33m.\u001b[0m\u001b[0m__getattribute__\u001b[0m\u001b[1;33m(\u001b[0m\u001b[0mself\u001b[0m\u001b[1;33m,\u001b[0m \u001b[0mname\u001b[0m\u001b[1;33m)\u001b[0m\u001b[1;33m\u001b[0m\u001b[1;33m\u001b[0m\u001b[0m\n\u001b[0m\u001b[0;32m   5466\u001b[0m \u001b[1;33m\u001b[0m\u001b[0m\n\u001b[0;32m   5467\u001b[0m     \u001b[1;32mdef\u001b[0m \u001b[0m__setattr__\u001b[0m\u001b[1;33m(\u001b[0m\u001b[0mself\u001b[0m\u001b[1;33m,\u001b[0m \u001b[0mname\u001b[0m\u001b[1;33m:\u001b[0m \u001b[0mstr\u001b[0m\u001b[1;33m,\u001b[0m \u001b[0mvalue\u001b[0m\u001b[1;33m)\u001b[0m \u001b[1;33m->\u001b[0m \u001b[1;32mNone\u001b[0m\u001b[1;33m:\u001b[0m\u001b[1;33m\u001b[0m\u001b[1;33m\u001b[0m\u001b[0m\n",
      "\u001b[1;31mAttributeError\u001b[0m: 'Series' object has no attribute 'freq'"
     ]
    }
   ],
   "source": [
    "# (emr_df.index == pd.date_range(start=emr_df.Date.min(),\n",
    "#                              end=emr_df.Date.max(),\n",
    "#                              freq=emr_df.Date.freq)).all()"
   ]
  }
 ],
 "metadata": {
  "interpreter": {
   "hash": "6986a36ff9abca86503c5bd35118269cd53a990e839cd5391635b68506b8c830"
  },
  "kernelspec": {
   "display_name": "Python 3.9.4 64-bit ('Lab1': conda)",
   "language": "python",
   "name": "python3"
  },
  "language_info": {
   "codemirror_mode": {
    "name": "ipython",
    "version": 3
   },
   "file_extension": ".py",
   "mimetype": "text/x-python",
   "name": "python",
   "nbconvert_exporter": "python",
   "pygments_lexer": "ipython3",
   "version": "3.9.4"
  },
  "orig_nbformat": 4
 },
 "nbformat": 4,
 "nbformat_minor": 2
}
