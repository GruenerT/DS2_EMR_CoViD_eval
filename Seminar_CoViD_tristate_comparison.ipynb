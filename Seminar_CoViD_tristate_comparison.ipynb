{
 "cells": [
  {
   "cell_type": "markdown",
   "metadata": {},
   "source": [
    "# Data Science 2 Seminar\n",
    "## Business/project evaluation stage\n",
    "\n",
    "### Premise\n",
    "Vacations/holidays have a visible effect on CoViD-19 infection rates in the tri-state area.\n",
    "\n",
    "If that can be shown, I will try to form a prediction model for future holidays.\n",
    "We know that effects changing the infection rate matter for the following 5-12 days. So a 14 day window will be used applied for the factors.\n",
    "\n",
    "### Evaluation \n",
    "* The area of relevance is the EMR (Euregio Maas-Rhine region) as defined by the EU\n",
    "  * The CoViD-19 data corresponding to that area is collected and transformed into a unified format in \n",
    "\n",
    "\n"
   ]
  },
  {
   "cell_type": "markdown",
   "metadata": {},
   "source": [
    "## Init"
   ]
  },
  {
   "cell_type": "code",
   "execution_count": 1,
   "metadata": {},
   "outputs": [],
   "source": [
    "import pandas as pd\n",
    "import numpy as np\n",
    "from numpy import mean\n",
    "from numpy import std\n",
    "\n",
    "import matplotlib.pyplot as plt\n",
    "from datetime import datetime as dt, timedelta\n",
    "\n",
    "from helpers import *\n",
    "# Some of the hyperparameters/statics can be found in init.py\n",
    "import init as util\n",
    "\n",
    "from dataprep import  *\n",
    "\n",
    "from sklearn.ensemble import GradientBoostingRegressor\n",
    "from sklearn.model_selection import train_test_split, cross_val_score, RepeatedKFold, StratifiedKFold, GridSearchCV\n",
    "from sklearn.svm import SVR\n",
    "from sklearn.pipeline import make_pipeline\n",
    "from sklearn.preprocessing import StandardScaler\n",
    "\n",
    "# make the graphs actually viewable\n",
    "plt.rcParams['figure.figsize'] = [12, 6]\n",
    "plt.rcParams['figure.dpi'] = 100\n",
    "\n",
    "class Settings(object):\n",
    "    incident_window_size = 7 # days\n",
    "    change_rate_window_size = 7 # days\n",
    "    off_day_relevance_window = 14 # days\n",
    "    timeframe_start = dt.strptime('2020-03-15',\"%Y-%m-%d\")\n",
    "    timeframe_end = dt.strptime('2021-11-15',\"%Y-%m-%d\")\n",
    "    training_columns = ['NDRC_SW_Yesterday','OffDayFactor', 'OffDay']\n",
    "\n",
    "    # Data sources\n",
    "    generate_data = False\n",
    "    save_generated_data = True\n",
    "    load_pregenerated_data = True\n",
    "    \n",
    "    base_dir = \"./\"\n",
    "    data_dir = base_dir + \"datasets/\"\n",
    "    source_dir = data_dir + 'orig/'\n",
    "\n",
    "    original_be_data = source_dir + 'COVID19BE_CASES_AGESEX.csv'\n",
    "    original_nl_data = source_dir + 'COVID-19_aantallen_gemeente_cumulatief.csv'\n",
    "    original_de_data = source_dir + 'RKI_COVID19.csv'\n",
    "\n",
    "    emr_infection_data = data_dir + \"EMR_prepared.csv\"\n",
    "    de_reference_data = data_dir + \"de_ref_cal.csv\"\n",
    "    nl_reference_data = data_dir + \"nl_ref_cal.csv\"\n",
    "    be_reference_data = data_dir + \"be_ref_cal.csv\"\n",
    "\n",
    "settings = Settings()"
   ]
  },
  {
   "cell_type": "markdown",
   "metadata": {},
   "source": [
    "## Data preparation stage\n",
    "### Generating data\n",
    "\n",
    "..."
   ]
  },
  {
   "cell_type": "code",
   "execution_count": 2,
   "metadata": {},
   "outputs": [],
   "source": [
    "if settings.generate_data:\n",
    "    emr_df = prepareData(settings)\n",
    "    be_ref_df, nl_ref_df, de_ref_df = prepareRefCals(settings)"
   ]
  },
  {
   "cell_type": "markdown",
   "metadata": {},
   "source": [
    "### Importing previously prepared data "
   ]
  },
  {
   "cell_type": "code",
   "execution_count": 3,
   "metadata": {},
   "outputs": [],
   "source": [
    "if settings.load_pregenerated_data:\n",
    "    emr_df = pd.read_csv(settings.emr_infection_data)\n",
    "    emr_df = addDateTypeColumn(emr_df,'Date')\n",
    "\n",
    "    be_ref_df, nl_ref_df, de_ref_df = loadRefData(settings)"
   ]
  },
  {
   "cell_type": "code",
   "execution_count": 4,
   "metadata": {},
   "outputs": [],
   "source": [
    "de_off_dfs = {}\n",
    "nl_off_dfs = {}\n",
    "be_off_dfs = {}\n",
    "\n",
    "for i in [10,20,30,40]:\n",
    "    de_off_dfs[i] = prepareDf(emr_df, i, de_ref_df)\n",
    "\n",
    "for i in [10,20,30,40]:\n",
    "    nl_off_dfs[i] = prepareDf(emr_df, i, nl_ref_df)\n",
    "\n",
    "for i in [10,20,30,40]:\n",
    "    be_off_dfs[i] = prepareDf(emr_df, i, be_ref_df)\n"
   ]
  },
  {
   "cell_type": "markdown",
   "metadata": {},
   "source": [
    "## Verify interval completeness"
   ]
  },
  {
   "cell_type": "code",
   "execution_count": 5,
   "metadata": {},
   "outputs": [
    {
     "name": "stdout",
     "output_type": "stream",
     "text": [
      "Off days: be provinceId: 10 complete: True\n",
      "Off days: be provinceId: 20 complete: True\n",
      "Off days: be provinceId: 30 complete: True\n",
      "Off days: be provinceId: 40 complete: True\n",
      "Off days: nl provinceId: 10 complete: True\n",
      "Off days: nl provinceId: 20 complete: True\n",
      "Off days: nl provinceId: 30 complete: True\n",
      "Off days: nl provinceId: 40 complete: True\n",
      "Off days: de provinceId: 10 complete: True\n",
      "Off days: de provinceId: 20 complete: True\n",
      "Off days: de provinceId: 30 complete: True\n",
      "Off days: de provinceId: 40 complete: True\n"
     ]
    }
   ],
   "source": [
    "for name, df_dict in [('be',be_off_dfs), ('nl',nl_off_dfs), ('de',de_off_dfs)]:\n",
    "    for k, df in df_dict.items():\n",
    "        print('Off days: {od} provinceId: {pid} complete: {comp}'.format(od=name, pid =k, comp=(df.index == pd.date_range(start=df.index.min(),\n",
    "                                    end=df.index.max(),\n",
    "                                    freq=df.index.freq)).all()))"
   ]
  },
  {
   "cell_type": "markdown",
   "metadata": {},
   "source": [
    "# Ridge Regression\n",
    "\n",
    "RR yields similar results concerning errors as Gradient Boosting did"
   ]
  },
  {
   "cell_type": "code",
   "execution_count": 6,
   "metadata": {},
   "outputs": [
    {
     "data": {
      "text/plain": [
       "0.7517058947324401"
      ]
     },
     "execution_count": 6,
     "metadata": {},
     "output_type": "execute_result"
    }
   ],
   "source": [
    "from sklearn.datasets import make_regression\n",
    "from sklearn.kernel_ridge import KernelRidge\n",
    "from sklearn.model_selection import train_test_split\n",
    "\n",
    "pt_gbtr_df = de_off_dfs[30].copy()\n",
    "X, y = pt_gbtr_df.loc[:, settings.training_columns], pt_gbtr_df.NDRC_Sliding_Window\n",
    "\n",
    "X_train, X_test, y_train, y_test = train_test_split(X, y, test_size=0.3, random_state=1)\n",
    "\n",
    "gbtReg = KernelRidge()\n",
    "gbtReg.fit(X_train, y_train)\n",
    "gbtReg.score(X_test, y_test) # R2"
   ]
  },
  {
   "cell_type": "markdown",
   "metadata": {},
   "source": [
    "# SVM\n",
    "SVM yielded significantly worse results compared to both RR and Gradient Boosting"
   ]
  },
  {
   "cell_type": "code",
   "execution_count": 7,
   "metadata": {},
   "outputs": [
    {
     "data": {
      "text/plain": [
       "-0.9618654261952737"
      ]
     },
     "execution_count": 7,
     "metadata": {},
     "output_type": "execute_result"
    }
   ],
   "source": [
    "gbtr_df = de_off_dfs[30].copy()\n",
    "X, y = gbtr_df.loc[:, settings.training_columns], gbtr_df.NDRC_Sliding_Window\n",
    "\n",
    "X_train, X_test, y_train, y_test = train_test_split(X, y,test_size=0.3, random_state=1)\n",
    "\n",
    "regr = make_pipeline(StandardScaler(), SVR(kernel='rbf',C=1.0, epsilon=0.2))\n",
    "regr.fit(X_train, y_train)\n",
    "regr.score(X_test, y_test) # R2"
   ]
  },
  {
   "cell_type": "markdown",
   "metadata": {},
   "source": [
    "# Gradient Boosting Regressor"
   ]
  },
  {
   "cell_type": "code",
   "execution_count": 8,
   "metadata": {},
   "outputs": [
    {
     "data": {
      "text/plain": [
       "0.7653761132648498"
      ]
     },
     "execution_count": 8,
     "metadata": {},
     "output_type": "execute_result"
    }
   ],
   "source": [
    "pt_gbtr_df = de_off_dfs[30].copy()\n",
    "X, y = pt_gbtr_df.loc[:,settings.training_columns], pt_gbtr_df.NDRC_Sliding_Window\n",
    "\n",
    "X_train, X_test, y_train, y_test = train_test_split(X, y, test_size=0.3, random_state=0)\n",
    "\n",
    "# From Gridsearch\n",
    "params = {'learning_rate': 0.075,\n",
    " 'max_depth': 3,\n",
    " 'min_samples_leaf': 10,\n",
    " 'min_samples_split': 2,\n",
    " 'n_estimators': 80,\n",
    " 'subsample': 0.85\n",
    " }\n",
    "\n",
    "gbtReg = GradientBoostingRegressor( random_state=0, **params)\n",
    "\n",
    "gbtReg.fit(X_train, y_train)\n",
    "gbtReg.score(X_test, y_test) # R2"
   ]
  },
  {
   "cell_type": "markdown",
   "metadata": {},
   "source": [
    "## Grid search\n",
    "The original grid params are commented out to have it run in reasonable time."
   ]
  },
  {
   "cell_type": "code",
   "execution_count": 9,
   "metadata": {},
   "outputs": [],
   "source": [
    "def doGridSearchForGradientBoostingRegressor():\n",
    "    # param_grid = {\n",
    "    #     'max_depth': [2, 3, 5, 10],\n",
    "    #     'subsample': [0.05, 0.1, 0.2, 0.5, 0.8, 0.85, 0.9],\n",
    "    #     'n_estimators': [10, 50, 80, 90, 100, 200, 500],\n",
    "    #     'learning_rate': [0.01, 0.02, 0.05,0.075, 0.1, 0.5],\n",
    "    #     'min_samples_split': [2, 5, 10],\n",
    "    #     'min_samples_leaf': [2, 5, 10]\n",
    "    # }\n",
    "\n",
    "    param_grid = {\n",
    "        'max_depth': [3],\n",
    "        'subsample': [0.85],\n",
    "        'n_estimators': [80, 90, 100],\n",
    "        'learning_rate': [0.075],\n",
    "        'min_samples_split':[2],\n",
    "        'min_samples_leaf':[10]\n",
    "    }\n",
    "\n",
    "    gbr = GradientBoostingRegressor(criterion='mae', loss='lad', random_state=1)\n",
    "    cv = RepeatedKFold(n_splits=10, n_repeats=3, random_state=1)\n",
    "    grid_search = GridSearchCV(estimator = gbr, param_grid = param_grid, \n",
    "                            cv = cv, n_jobs = -1, verbose = 0, scoring='neg_mean_absolute_error')\n",
    "    results = pd.DataFrame(columns={'region','offdays','score'})\n",
    "\n",
    "    for name, df_dict in [('be',be_off_dfs), ('nl',nl_off_dfs), ('de',de_off_dfs)]:\n",
    "        for k, df in df_dict.items():\n",
    "            X = df.loc[:,['NDRC_SW_Yesterday','OffDayFactor']]\n",
    "            y = df.NDRC_SW\n",
    "            grid_search.fit(X, y)\n",
    "            res = grid_search.best_params_.copy()\n",
    "            res['offdays'] = name\n",
    "            res['region'] = k\n",
    "            res['score'] = grid_search.best_score_\n",
    "            results = results.append(res, ignore_index=True)\n",
    "    return results"
   ]
  },
  {
   "cell_type": "markdown",
   "metadata": {},
   "source": [
    "The resulting scores show that on very similar parameters the predictions across borders and across the whole EMR are roughly equally as well as the ones of off-days corresponding to their own country.\n",
    "The scores as such seem to be in a range where they give predictions in the right ball park but aren't suitable for forecasts over longer stretches.\n",
    "This stems from each prediction being based on a true value of the previous day.  "
   ]
  },
  {
   "cell_type": "code",
   "execution_count": 10,
   "metadata": {},
   "outputs": [],
   "source": [
    "# doGridSearchForGradientBoostingRegressor()"
   ]
  },
  {
   "cell_type": "markdown",
   "metadata": {},
   "source": [
    "# Forecaster"
   ]
  },
  {
   "cell_type": "code",
   "execution_count": 11,
   "metadata": {},
   "outputs": [],
   "source": [
    "import matplotlib.pyplot as plt\n",
    "\n",
    "from sklearn.linear_model import LinearRegression\n",
    "from sklearn.linear_model import Lasso\n",
    "from sklearn.ensemble import RandomForestRegressor\n",
    "from sklearn.metrics import mean_squared_error\n",
    "from sklearn.preprocessing import StandardScaler\n",
    "from sklearn.pipeline import make_pipeline\n",
    "\n",
    "from skforecast.ForecasterAutoreg import ForecasterAutoreg\n",
    "from skforecast.ForecasterAutoregCustom import ForecasterAutoregCustom\n",
    "from skforecast.ForecasterAutoregMultiOutput import ForecasterAutoregMultiOutput\n",
    "\n",
    "from joblib import dump, load\n",
    "\n",
    "def doRunSkForecaster():\n",
    "    fk_df = de_off_dfs[30].copy()\n",
    "\n",
    "    test_range = 17\n",
    "    data_train = fk_df[:-test_range]\n",
    "    data_test = fk_df[-test_range:]\n",
    "\n",
    "    regr = GradientBoostingRegressor(criterion='mae',loss='lad', random_state=1, **params)\n",
    "    forecaster = ForecasterAutoreg( regressor = regr, lags = 100 )\n",
    "    forecaster.fit(y=data_train.NDRC_Sliding_Window, exog=data_train.loc[:, settings.training_columns])\n",
    "    # forecaster.fit(y=data_train.NDRC_Sliding_Window, exog=data_train.loc[:,['OffDay','OffDayFactor']])\n",
    "    predictions = forecaster.predict(steps=test_range, exog=data_test.loc[:, settings.training_columns])\n",
    "    # predictions = forecaster.predict(steps=test_range, exog=data_test.loc[:,['OffDay','OffDayFactor']])\n",
    "\n",
    "    fig, ax = plt.subplots()\n",
    "    data_train[-test_range:].NDRC_Sliding_Window.plot(ax=ax, label='train')\n",
    "    data_test.NDRC_Sliding_Window.plot(ax=ax, label='test')\n",
    "    predictions.plot(ax=ax, label='predictions')\n",
    "    ax.legend()\n",
    "    return predictions"
   ]
  },
  {
   "cell_type": "code",
   "execution_count": 12,
   "metadata": {},
   "outputs": [],
   "source": [
    "# _ = doRunSkForecaster()"
   ]
  },
  {
   "cell_type": "markdown",
   "metadata": {},
   "source": [
    "# Recursive forecasting"
   ]
  },
  {
   "cell_type": "code",
   "execution_count": 14,
   "metadata": {},
   "outputs": [
    {
     "data": {
      "text/html": [
       "<div>\n",
       "<style scoped>\n",
       "    .dataframe tbody tr th:only-of-type {\n",
       "        vertical-align: middle;\n",
       "    }\n",
       "\n",
       "    .dataframe tbody tr th {\n",
       "        vertical-align: top;\n",
       "    }\n",
       "\n",
       "    .dataframe thead th {\n",
       "        text-align: right;\n",
       "    }\n",
       "</style>\n",
       "<table border=\"1\" class=\"dataframe\">\n",
       "  <thead>\n",
       "    <tr style=\"text-align: right;\">\n",
       "      <th></th>\n",
       "      <th>Unnamed: 0_x</th>\n",
       "      <th>Province_Id_x</th>\n",
       "      <th>Daily_Total</th>\n",
       "      <th>Daily_100k</th>\n",
       "      <th>N_Day_Rate</th>\n",
       "      <th>NDR_Change</th>\n",
       "      <th>NDRC_Sliding_Window</th>\n",
       "      <th>NDRC_SW_Yesterday</th>\n",
       "      <th>Unnamed: 0_y</th>\n",
       "      <th>Province_Id_y</th>\n",
       "      <th>Holiday</th>\n",
       "      <th>Vacation</th>\n",
       "      <th>OffDay</th>\n",
       "      <th>OffDayFactor</th>\n",
       "    </tr>\n",
       "    <tr>\n",
       "      <th>Date</th>\n",
       "      <th></th>\n",
       "      <th></th>\n",
       "      <th></th>\n",
       "      <th></th>\n",
       "      <th></th>\n",
       "      <th></th>\n",
       "      <th></th>\n",
       "      <th></th>\n",
       "      <th></th>\n",
       "      <th></th>\n",
       "      <th></th>\n",
       "      <th></th>\n",
       "      <th></th>\n",
       "      <th></th>\n",
       "    </tr>\n",
       "  </thead>\n",
       "  <tbody>\n",
       "    <tr>\n",
       "      <th>2021-10-29</th>\n",
       "      <td>1927</td>\n",
       "      <td>30</td>\n",
       "      <td>179.0</td>\n",
       "      <td>14.065825</td>\n",
       "      <td>417.642083</td>\n",
       "      <td>0.982035</td>\n",
       "      <td>1.042217</td>\n",
       "      <td>1.055428</td>\n",
       "      <td>593</td>\n",
       "      <td>30</td>\n",
       "      <td>0</td>\n",
       "      <td>0</td>\n",
       "      <td>False</td>\n",
       "      <td>9.0</td>\n",
       "    </tr>\n",
       "    <tr>\n",
       "      <th>2021-10-30</th>\n",
       "      <td>1928</td>\n",
       "      <td>30</td>\n",
       "      <td>175.0</td>\n",
       "      <td>13.751505</td>\n",
       "      <td>388.438529</td>\n",
       "      <td>0.930075</td>\n",
       "      <td>1.034713</td>\n",
       "      <td>1.042217</td>\n",
       "      <td>594</td>\n",
       "      <td>30</td>\n",
       "      <td>1</td>\n",
       "      <td>0</td>\n",
       "      <td>True</td>\n",
       "      <td>9.0</td>\n",
       "    </tr>\n",
       "    <tr>\n",
       "      <th>2021-10-31</th>\n",
       "      <td>1929</td>\n",
       "      <td>30</td>\n",
       "      <td>141.0</td>\n",
       "      <td>11.079784</td>\n",
       "      <td>308.035144</td>\n",
       "      <td>0.793009</td>\n",
       "      <td>1.027965</td>\n",
       "      <td>1.034713</td>\n",
       "      <td>595</td>\n",
       "      <td>30</td>\n",
       "      <td>1</td>\n",
       "      <td>0</td>\n",
       "      <td>True</td>\n",
       "      <td>9.0</td>\n",
       "    </tr>\n",
       "    <tr>\n",
       "      <th>2021-11-01</th>\n",
       "      <td>1930</td>\n",
       "      <td>30</td>\n",
       "      <td>198.0</td>\n",
       "      <td>15.558845</td>\n",
       "      <td>273.436625</td>\n",
       "      <td>0.887680</td>\n",
       "      <td>1.025308</td>\n",
       "      <td>1.027965</td>\n",
       "      <td>596</td>\n",
       "      <td>30</td>\n",
       "      <td>1</td>\n",
       "      <td>0</td>\n",
       "      <td>True</td>\n",
       "      <td>9.0</td>\n",
       "    </tr>\n",
       "    <tr>\n",
       "      <th>2021-11-02</th>\n",
       "      <td>1931</td>\n",
       "      <td>30</td>\n",
       "      <td>294.0</td>\n",
       "      <td>23.102528</td>\n",
       "      <td>392.515154</td>\n",
       "      <td>1.435489</td>\n",
       "      <td>1.020851</td>\n",
       "      <td>1.025308</td>\n",
       "      <td>597</td>\n",
       "      <td>30</td>\n",
       "      <td>0</td>\n",
       "      <td>0</td>\n",
       "      <td>False</td>\n",
       "      <td>8.0</td>\n",
       "    </tr>\n",
       "    <tr>\n",
       "      <th>2021-11-03</th>\n",
       "      <td>1932</td>\n",
       "      <td>30</td>\n",
       "      <td>324.0</td>\n",
       "      <td>25.459929</td>\n",
       "      <td>497.249196</td>\n",
       "      <td>1.266828</td>\n",
       "      <td>1.020652</td>\n",
       "      <td>1.020851</td>\n",
       "      <td>598</td>\n",
       "      <td>30</td>\n",
       "      <td>0</td>\n",
       "      <td>0</td>\n",
       "      <td>False</td>\n",
       "      <td>7.0</td>\n",
       "    </tr>\n",
       "    <tr>\n",
       "      <th>2021-11-04</th>\n",
       "      <td>1933</td>\n",
       "      <td>30</td>\n",
       "      <td>322.0</td>\n",
       "      <td>25.302769</td>\n",
       "      <td>485.479322</td>\n",
       "      <td>0.976330</td>\n",
       "      <td>1.023344</td>\n",
       "      <td>1.020652</td>\n",
       "      <td>599</td>\n",
       "      <td>30</td>\n",
       "      <td>0</td>\n",
       "      <td>0</td>\n",
       "      <td>False</td>\n",
       "      <td>6.0</td>\n",
       "    </tr>\n",
       "    <tr>\n",
       "      <th>2021-11-05</th>\n",
       "      <td>1934</td>\n",
       "      <td>30</td>\n",
       "      <td>291.0</td>\n",
       "      <td>22.866788</td>\n",
       "      <td>419.474763</td>\n",
       "      <td>0.864042</td>\n",
       "      <td>1.024011</td>\n",
       "      <td>1.023344</td>\n",
       "      <td>600</td>\n",
       "      <td>30</td>\n",
       "      <td>0</td>\n",
       "      <td>0</td>\n",
       "      <td>False</td>\n",
       "      <td>5.0</td>\n",
       "    </tr>\n",
       "  </tbody>\n",
       "</table>\n",
       "</div>"
      ],
      "text/plain": [
       "            Unnamed: 0_x  Province_Id_x  Daily_Total  Daily_100k  N_Day_Rate  \\\n",
       "Date                                                                           \n",
       "2021-10-29          1927             30        179.0   14.065825  417.642083   \n",
       "2021-10-30          1928             30        175.0   13.751505  388.438529   \n",
       "2021-10-31          1929             30        141.0   11.079784  308.035144   \n",
       "2021-11-01          1930             30        198.0   15.558845  273.436625   \n",
       "2021-11-02          1931             30        294.0   23.102528  392.515154   \n",
       "2021-11-03          1932             30        324.0   25.459929  497.249196   \n",
       "2021-11-04          1933             30        322.0   25.302769  485.479322   \n",
       "2021-11-05          1934             30        291.0   22.866788  419.474763   \n",
       "\n",
       "            NDR_Change  NDRC_Sliding_Window  NDRC_SW_Yesterday  Unnamed: 0_y  \\\n",
       "Date                                                                           \n",
       "2021-10-29    0.982035             1.042217           1.055428           593   \n",
       "2021-10-30    0.930075             1.034713           1.042217           594   \n",
       "2021-10-31    0.793009             1.027965           1.034713           595   \n",
       "2021-11-01    0.887680             1.025308           1.027965           596   \n",
       "2021-11-02    1.435489             1.020851           1.025308           597   \n",
       "2021-11-03    1.266828             1.020652           1.020851           598   \n",
       "2021-11-04    0.976330             1.023344           1.020652           599   \n",
       "2021-11-05    0.864042             1.024011           1.023344           600   \n",
       "\n",
       "            Province_Id_y  Holiday  Vacation  OffDay  OffDayFactor  \n",
       "Date                                                                \n",
       "2021-10-29             30        0         0   False           9.0  \n",
       "2021-10-30             30        1         0    True           9.0  \n",
       "2021-10-31             30        1         0    True           9.0  \n",
       "2021-11-01             30        1         0    True           9.0  \n",
       "2021-11-02             30        0         0   False           8.0  \n",
       "2021-11-03             30        0         0   False           7.0  \n",
       "2021-11-04             30        0         0   False           6.0  \n",
       "2021-11-05             30        0         0   False           5.0  "
      ]
     },
     "execution_count": 14,
     "metadata": {},
     "output_type": "execute_result"
    },
    {
     "data": {
      "image/png": "[encoded data removed]",
      "text/plain": [
       "<Figure size 1200x600 with 1 Axes>"
      ]
     },
     "metadata": {
      "needs_background": "light"
     },
     "output_type": "display_data"
    }
   ],
   "source": [
    "_, recursiveWindowForecast(de_off_dfs[30],'2021-10-29','2021-11-05', settings, params=params, refDf=de_ref_df, visualWindow=10)\n",
    "\n"
   ]
  }
 ],
 "metadata": {
  "interpreter": {
   "hash": "6986a36ff9abca86503c5bd35118269cd53a990e839cd5391635b68506b8c830"
  },
  "kernelspec": {
   "display_name": "Python 3.9.4 64-bit ('Lab1': conda)",
   "language": "python",
   "name": "python3"
  },
  "language_info": {
   "codemirror_mode": {
    "name": "ipython",
    "version": 3
   },
   "file_extension": ".py",
   "mimetype": "text/x-python",
   "name": "python",
   "nbconvert_exporter": "python",
   "pygments_lexer": "ipython3",
   "version": "3.9.4"
  },
  "orig_nbformat": 4
 },
 "nbformat": 4,
 "nbformat_minor": 2
}
