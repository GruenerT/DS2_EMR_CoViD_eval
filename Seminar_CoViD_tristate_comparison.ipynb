{
 "cells": [
  {
   "cell_type": "markdown",
   "metadata": {},
   "source": [
    "# Data Science 2 Seminar\n",
    "## Business/project evaluation stage\n",
    "\n",
    "### Premise\n",
    "Vacations/holidays have a visible effect on CoViD-19 infection rates in the tri-state area.\n",
    "\n",
    "If that can be shown, I will try to form a prediction model for future holidays.\n",
    "\n",
    "### Evaluation \n",
    "* The area of relevance is the EMR (Euregio Maas-Rhine region) as defined by the EU\n",
    "  * The CoViD-19 data corresponding to that area is collected and transformed into a unified format in \n",
    "\n",
    "\n"
   ]
  },
  {
   "cell_type": "markdown",
   "metadata": {},
   "source": [
    "## Init"
   ]
  },
  {
   "cell_type": "code",
   "execution_count": 1,
   "metadata": {},
   "outputs": [],
   "source": [
    "import pandas as pd\n",
    "import numpy as np\n",
    "from numpy import mean\n",
    "from numpy import std\n",
    "\n",
    "import matplotlib.pyplot as plt\n",
    "from datetime import datetime as dt, timedelta\n",
    "\n",
    "from helpers import *\n",
    "import init as util\n",
    "\n",
    "from dataprep import  *\n",
    "\n",
    "from sklearn.ensemble import GradientBoostingRegressor\n",
    "from sklearn.model_selection import train_test_split, cross_val_score, RepeatedKFold, StratifiedKFold, GridSearchCV\n",
    "from sklearn.svm import SVR\n",
    "from sklearn.pipeline import make_pipeline\n",
    "from sklearn.preprocessing import StandardScaler\n",
    "\n",
    "plt.rcParams['figure.figsize'] = [12, 6]\n",
    "plt.rcParams['figure.dpi'] = 100 # 200 e.g. is really fine, but slowe\n"
   ]
  },
  {
   "cell_type": "markdown",
   "metadata": {},
   "source": [
    "## Data preparation stage\n",
    "### Generating data\n",
    "\n",
    "..."
   ]
  },
  {
   "cell_type": "code",
   "execution_count": 2,
   "metadata": {},
   "outputs": [],
   "source": [
    "# emr_df = prepareData(save=True)\n",
    "# be_ref_df, nl_ref_df, de_ref_df = prepareRefCals(save=True)"
   ]
  },
  {
   "cell_type": "markdown",
   "metadata": {},
   "source": [
    "### Importing previously prepared data "
   ]
  },
  {
   "cell_type": "code",
   "execution_count": 3,
   "metadata": {},
   "outputs": [],
   "source": [
    "emr_df = pd.read_csv(util.emr_infection_data)\n",
    "emr_df = addDateTypeColumn(emr_df,'Date')\n",
    "\n",
    "be_ref_df, nl_ref_df, de_ref_df = loadRefData()"
   ]
  },
  {
   "cell_type": "code",
   "execution_count": 4,
   "metadata": {},
   "outputs": [],
   "source": [
    "def prepareDf(base_df, provinceId, mergeDf=None):\n",
    "    loc_df = base_df.copy()\n",
    "    loc_df = loc_df.loc[loc_df.Province_Id == provinceId]\n",
    "    loc_df = loc_df.rename(columns={'N_Day_Rate_Change_Sliding_Window':'NDRC_SW'})\n",
    "    loc_df['NDRC_SW_Yesterday'] = loc_df['NDRC_SW'].rolling(2, min_periods=1).apply(lambda x: x[0], raw=True )\n",
    "    loc_df = loc_df.loc[loc_df.NDRC_SW_Yesterday.notna() & loc_df.NDRC_SW.notna() ,['NDRC_SW_Yesterday','NDRC_SW','Date']]\n",
    "    if mergeDf is not None:\n",
    "        loc_df = pd.merge(loc_df, mergeDf.loc[:,['Date','OffDayFactor']], on='Date', how='left')\n",
    "\n",
    "    loc_df = loc_df.set_index('Date')\n",
    "    loc_df = loc_df.asfreq('D')\n",
    "    loc_df = loc_df.sort_index()\n",
    "\n",
    "    return loc_df"
   ]
  },
  {
   "cell_type": "code",
   "execution_count": 5,
   "metadata": {},
   "outputs": [],
   "source": [
    "de_off_dfs = {}\n",
    "nl_off_dfs = {}\n",
    "be_off_dfs = {}\n",
    "\n",
    "for i in [10,20,30,40]:\n",
    "    de_off_dfs[i] = prepareDf(emr_df, i, de_ref_df)\n",
    "\n",
    "for i in [10,20,30,40]:\n",
    "    nl_off_dfs[i] = prepareDf(emr_df, i, nl_ref_df)\n",
    "\n",
    "for i in [10,20,30,40]:\n",
    "    be_off_dfs[i] = prepareDf(emr_df, i, be_ref_df)\n"
   ]
  },
  {
   "cell_type": "markdown",
   "metadata": {},
   "source": [
    "## Verify interval completeness"
   ]
  },
  {
   "cell_type": "code",
   "execution_count": null,
   "metadata": {},
   "outputs": [],
   "source": [
    "for name, df_dict in [('be',be_off_dfs), ('nl',nl_off_dfs), ('de',de_off_dfs)]:\n",
    "    for k, df in df_dict.items():\n",
    "        print('Off days: {od} provinceId: {pid} complete: {comp}'.format(od=name, pid =k, comp=(df.index == pd.date_range(start=df.index.min(),\n",
    "                                    end=df.index.max(),\n",
    "                                    freq=df.index.freq)).all()))"
   ]
  },
  {
   "cell_type": "markdown",
   "metadata": {},
   "source": [
    "# Ridge Regression\n",
    "\n",
    "RR yields similar results concerning errors as Gradient Boosting did"
   ]
  },
  {
   "cell_type": "code",
   "execution_count": null,
   "metadata": {},
   "outputs": [],
   "source": [
    "from sklearn.datasets import make_regression\n",
    "from sklearn.kernel_ridge import KernelRidge\n",
    "from sklearn.model_selection import train_test_split\n",
    "\n",
    "pt_gbtr_df = de_off_dfs[30].copy()\n",
    "X, y = pt_gbtr_df.loc[:,['NDRC_SW_Yesterday','OffDayFactor']], pt_gbtr_df.NDRC_SW\n",
    "\n",
    "X_train, X_test, y_train, y_test = train_test_split(X, y, test_size=0.3, random_state=1)\n",
    "\n",
    "gbtReg = KernelRidge()\n",
    "gbtReg.fit(X_train, y_train)\n",
    "gbtReg.score(X_test, y_test) # R2"
   ]
  },
  {
   "cell_type": "markdown",
   "metadata": {},
   "source": [
    "# SVM\n",
    "SVM yielded significantly worse results compared to both RR and Gradient Boosting"
   ]
  },
  {
   "cell_type": "code",
   "execution_count": null,
   "metadata": {},
   "outputs": [],
   "source": [
    "gbtr_df = de_off_dfs[30].copy()\n",
    "X, y = gbtr_df.loc[:,['NDRC_SW_Yesterday','OffDayFactor']], gbtr_df.NDRC_SW\n",
    "\n",
    "X_train, X_test, y_train, y_test = train_test_split(X, y,test_size=0.3, random_state=1)\n",
    "\n",
    "regr = make_pipeline(StandardScaler(), SVR(kernel='rbf',C=1.0, epsilon=0.2))\n",
    "regr.fit(X_train, y_train)\n",
    "regr.score(X_test, y_test) # R2"
   ]
  },
  {
   "cell_type": "markdown",
   "metadata": {},
   "source": [
    "# Gradient Boosting Regressor"
   ]
  },
  {
   "cell_type": "code",
   "execution_count": 6,
   "metadata": {},
   "outputs": [
    {
     "data": {
      "text/plain": [
       "0.7580852628307823"
      ]
     },
     "execution_count": 6,
     "metadata": {},
     "output_type": "execute_result"
    }
   ],
   "source": [
    "pt_gbtr_df = de_off_dfs[30].copy()\n",
    "X, y = pt_gbtr_df.loc[:,['NDRC_SW_Yesterday','OffDayFactor']], pt_gbtr_df.NDRC_SW\n",
    "\n",
    "X_train, X_test, y_train, y_test = train_test_split(X, y, test_size=0.3, random_state=0)\n",
    "\n",
    "# From Gridsearch\n",
    "params = {'learning_rate': 0.075,\n",
    " 'max_depth': 3,\n",
    " 'min_samples_leaf': 10,\n",
    " 'min_samples_split': 2,\n",
    " 'n_estimators': 80,\n",
    " 'subsample': 0.85\n",
    " }\n",
    "\n",
    "gbtReg = GradientBoostingRegressor( random_state=0, **params)\n",
    "\n",
    "gbtReg.fit(X_train, y_train)\n",
    "gbtReg.score(X_test, y_test) # R2"
   ]
  },
  {
   "cell_type": "markdown",
   "metadata": {},
   "source": [
    "## Grid search\n",
    "The original grid params are commented out to have it run in reasonable time."
   ]
  },
  {
   "cell_type": "code",
   "execution_count": null,
   "metadata": {},
   "outputs": [],
   "source": [
    "# param_grid = {\n",
    "#     'max_depth': [2, 3, 5, 10],\n",
    "#     'subsample': [0.05, 0.1, 0.2, 0.5, 0.8, 0.85, 0.9],\n",
    "#     'n_estimators': [10, 50, 80, 90, 100, 200, 500],\n",
    "#     'learning_rate': [0.01, 0.02, 0.05,0.075, 0.1, 0.5],\n",
    "# 'min_samples_split': [2, 5, 10],\n",
    "# 'min_samples_leaf': [2, 5, 10]\n",
    "# }\n",
    "\n",
    "param_grid = {\n",
    "    'max_depth': [3],\n",
    "    'subsample': [0.85],\n",
    "    'n_estimators': [80, 90, 100],\n",
    "    'learning_rate': [0.075],\n",
    "    'min_samples_split':[2],\n",
    "    'min_samples_leaf':[10]\n",
    "}\n",
    "\n",
    "gbr = GradientBoostingRegressor(criterion='mae', loss='lad', random_state=1)\n",
    "cv = RepeatedKFold(n_splits=10, n_repeats=3, random_state=1)\n",
    "grid_search = GridSearchCV(estimator = gbr, param_grid = param_grid, \n",
    "                          cv = cv, n_jobs = -1, verbose = 0, scoring='neg_mean_absolute_error')\n",
    "results = pd.DataFrame(columns={'region','offdays','score'})\n",
    "\n",
    "for name, df_dict in [('be',be_off_dfs), ('nl',nl_off_dfs), ('de',de_off_dfs)]:\n",
    "    for k, df in df_dict.items():\n",
    "        X = df.loc[:,['NDRC_SW_Yesterday','OffDayFactor']]\n",
    "        y = df.NDRC_SW\n",
    "        grid_search.fit(X, y)\n",
    "        res = grid_search.best_params_.copy()\n",
    "        res['offdays'] = name\n",
    "        res['region'] = k\n",
    "        res['score'] = grid_search.best_score_\n",
    "        results = results.append(res, ignore_index=True)"
   ]
  },
  {
   "cell_type": "markdown",
   "metadata": {},
   "source": [
    "The resulting scores show that on very similar parameters the predictions across borders and across the whole EMR are roughly equally as well as the ones of off-days corresponding to their own country.\n",
    "The scores as such seem to be in a range where they give predictions in the right ball park but aren't suitable for forecasts over longer stretches.\n",
    "This stems from each prediction being based on a true value of the previous day.  "
   ]
  },
  {
   "cell_type": "code",
   "execution_count": null,
   "metadata": {},
   "outputs": [],
   "source": [
    "results"
   ]
  },
  {
   "cell_type": "markdown",
   "metadata": {},
   "source": [
    "# Forecaster"
   ]
  },
  {
   "cell_type": "code",
   "execution_count": null,
   "metadata": {},
   "outputs": [],
   "source": [
    "import matplotlib.pyplot as plt\n",
    "\n",
    "from sklearn.linear_model import LinearRegression\n",
    "from sklearn.linear_model import Lasso\n",
    "from sklearn.ensemble import RandomForestRegressor\n",
    "from sklearn.metrics import mean_squared_error\n",
    "from sklearn.preprocessing import StandardScaler\n",
    "from sklearn.pipeline import make_pipeline\n",
    "\n",
    "from skforecast.ForecasterAutoreg import ForecasterAutoreg\n",
    "from skforecast.ForecasterAutoregCustom import ForecasterAutoregCustom\n",
    "from skforecast.ForecasterAutoregMultiOutput import ForecasterAutoregMultiOutput\n",
    "\n",
    "from joblib import dump, load\n",
    "\n",
    "fk_df = de_off_dfs[30].copy()\n",
    "\n",
    "test_range = 17\n",
    "data_train = fk_df[:-test_range]\n",
    "data_test = fk_df[-test_range:]\n",
    "\n",
    "regr = GradientBoostingRegressor(criterion='mae',loss='lad', random_state=1, **params)\n",
    "forecaster = ForecasterAutoreg( regressor = regr, lags = 100 )\n",
    "# forecaster.fit(y=data_train.NDRC_SW, exog=data_train.loc[:,['NDRC_SW_Yesterday','OffDayFactor']])\n",
    "forecaster.fit(y=data_train.NDRC_SW, exog=data_train.loc[:,['OffDayFactor']])"
   ]
  },
  {
   "cell_type": "code",
   "execution_count": null,
   "metadata": {},
   "outputs": [],
   "source": [
    "# predictions = forecaster.predict(steps=test_range, exog=data_test.loc[:,['NDRC_SW_Yesterday','OffDayFactor']])\n",
    "predictions = forecaster.predict(steps=test_range, exog=data_test.loc[:,['OffDayFactor']])\n",
    "\n",
    "fig, ax = plt.subplots()\n",
    "data_train.NDRC_SW.plot(ax=ax, label='train')\n",
    "data_test.NDRC_SW.plot(ax=ax, label='test')\n",
    "predictions.plot(ax=ax, label='predictions')\n",
    "ax.legend();"
   ]
  },
  {
   "cell_type": "markdown",
   "metadata": {},
   "source": [
    "# Recursive forecasting"
   ]
  },
  {
   "cell_type": "code",
   "execution_count": null,
   "metadata": {},
   "outputs": [],
   "source": [
    "df = de_ref_df\n",
    "# df = reIndexToDate(df)\n",
    "startDate = dt.strptime(\"2021-11-05\",\"%Y-%m-%d\")\n",
    "endDate = dt.strptime(\"2021-11-20\",\"%Y-%m-%d\")\n",
    "mask = (df.Date > startDate) & (df.Date < endDate)\n",
    "df.loc[mask]\n",
    "# train, test, train2 = df[:startDate], df[startDate:endDate], df[endDate:]\n",
    "# train, test, train2\n",
    "# train.append(train2), test"
   ]
  },
  {
   "cell_type": "code",
   "execution_count": 7,
   "metadata": {},
   "outputs": [],
   "source": [
    "def recursiveWindowForecast(df, start, end, refDf=None, visualize=True, visualWindow=20):\n",
    "    startDate = dt.strptime(start,\"%Y-%m-%d\")\n",
    "    endDate = dt.strptime(end,\"%Y-%m-%d\")\n",
    "    delta = timedelta(days=visualWindow)\n",
    "    oneDay = timedelta(days=1)\n",
    "\n",
    "    rec_fk_df = df.copy()\n",
    "\n",
    "    train, test, train2 = rec_fk_df[:startDate-oneDay] , rec_fk_df[startDate:endDate], rec_fk_df[endDate+oneDay:]\n",
    "\n",
    "    train= train.append(train2)\n",
    "\n",
    "    X_train, y_train = train.loc[:,['NDRC_SW_Yesterday','OffDayFactor']], train.loc[:,'NDRC_SW']\n",
    "    X_test, y_test = test.loc[:,['NDRC_SW_Yesterday','OffDayFactor']], test.loc[:,'NDRC_SW']\n",
    "\n",
    "    gbr = GradientBoostingRegressor( random_state=0, **params)\n",
    "\n",
    "    gbr.fit(X_train, y_train)\n",
    "    # gbr.score(X_test, y_test) # R2\n",
    "\n",
    "    predictions = test.copy()\n",
    "    NDRC_yest = predictions['NDRC_SW_Yesterday'][0]\n",
    "    predictions.NDRC_SW = np.NAN\n",
    "    predictions.loc[:, 'NDRC_SW_Yesterday'] = np.NAN\n",
    "\n",
    "    for idx, row in predictions.iterrows():\n",
    "        row['NDRC_SW_Yesterday'] = NDRC_yest\n",
    "        row['NDRC_SW'] = NDRC_yest = gbr.predict( np.array([row['NDRC_SW_Yesterday'], row['OffDayFactor']]).reshape(1, -1) )\n",
    "\n",
    "    if visualize:\n",
    "        fig, ax = plt.subplots()\n",
    "        timeframe_start = startDate - delta\n",
    "        timeframe_end = endDate + delta\n",
    "        train[timeframe_start : timeframe_end].append(test).NDRC_SW.plot(ax=ax, label='train')\n",
    "        test.NDRC_SW.plot(ax=ax, label='test')\n",
    "        predictions.NDRC_SW.plot(ax=ax, label='predictions')\n",
    "        if refDf is not None:\n",
    "            refDfC = refDf.copy()\n",
    "            mask = (refDfC.Date > startDate) & (refDfC.Date < endDate)\n",
    "            addDayOffStreaks(refDfC.loc[mask], ax = ax, streakLabel='Off days')\n",
    "        ax.legend();\n",
    "\n",
    "    return predictions"
   ]
  },
  {
   "cell_type": "code",
   "execution_count": 8,
   "metadata": {},
   "outputs": [
    {
     "data": {
      "text/html": [
       "<div>\n",
       "<style scoped>\n",
       "    .dataframe tbody tr th:only-of-type {\n",
       "        vertical-align: middle;\n",
       "    }\n",
       "\n",
       "    .dataframe tbody tr th {\n",
       "        vertical-align: top;\n",
       "    }\n",
       "\n",
       "    .dataframe thead th {\n",
       "        text-align: right;\n",
       "    }\n",
       "</style>\n",
       "<table border=\"1\" class=\"dataframe\">\n",
       "  <thead>\n",
       "    <tr style=\"text-align: right;\">\n",
       "      <th></th>\n",
       "      <th>NDRC_SW_Yesterday</th>\n",
       "      <th>NDRC_SW</th>\n",
       "      <th>OffDayFactor</th>\n",
       "    </tr>\n",
       "    <tr>\n",
       "      <th>Date</th>\n",
       "      <th></th>\n",
       "      <th></th>\n",
       "      <th></th>\n",
       "    </tr>\n",
       "  </thead>\n",
       "  <tbody>\n",
       "    <tr>\n",
       "      <th>2021-10-29</th>\n",
       "      <td>1.055428</td>\n",
       "      <td>1.044687</td>\n",
       "      <td>9.0</td>\n",
       "    </tr>\n",
       "    <tr>\n",
       "      <th>2021-10-30</th>\n",
       "      <td>1.044687</td>\n",
       "      <td>1.034876</td>\n",
       "      <td>9.0</td>\n",
       "    </tr>\n",
       "    <tr>\n",
       "      <th>2021-10-31</th>\n",
       "      <td>1.034876</td>\n",
       "      <td>1.027084</td>\n",
       "      <td>9.0</td>\n",
       "    </tr>\n",
       "    <tr>\n",
       "      <th>2021-11-01</th>\n",
       "      <td>1.027084</td>\n",
       "      <td>1.021941</td>\n",
       "      <td>9.0</td>\n",
       "    </tr>\n",
       "    <tr>\n",
       "      <th>2021-11-02</th>\n",
       "      <td>1.021941</td>\n",
       "      <td>1.027323</td>\n",
       "      <td>8.0</td>\n",
       "    </tr>\n",
       "    <tr>\n",
       "      <th>2021-11-03</th>\n",
       "      <td>1.027323</td>\n",
       "      <td>1.025602</td>\n",
       "      <td>7.0</td>\n",
       "    </tr>\n",
       "    <tr>\n",
       "      <th>2021-11-04</th>\n",
       "      <td>1.025602</td>\n",
       "      <td>1.024037</td>\n",
       "      <td>6.0</td>\n",
       "    </tr>\n",
       "    <tr>\n",
       "      <th>2021-11-05</th>\n",
       "      <td>1.024037</td>\n",
       "      <td>1.024037</td>\n",
       "      <td>5.0</td>\n",
       "    </tr>\n",
       "  </tbody>\n",
       "</table>\n",
       "</div>"
      ],
      "text/plain": [
       "            NDRC_SW_Yesterday   NDRC_SW  OffDayFactor\n",
       "Date                                                 \n",
       "2021-10-29           1.055428  1.044687           9.0\n",
       "2021-10-30           1.044687  1.034876           9.0\n",
       "2021-10-31           1.034876  1.027084           9.0\n",
       "2021-11-01           1.027084  1.021941           9.0\n",
       "2021-11-02           1.021941  1.027323           8.0\n",
       "2021-11-03           1.027323  1.025602           7.0\n",
       "2021-11-04           1.025602  1.024037           6.0\n",
       "2021-11-05           1.024037  1.024037           5.0"
      ]
     },
     "execution_count": 8,
     "metadata": {},
     "output_type": "execute_result"
    },
    {
     "data": {
      "image/png": "[encoded data removed]",
      "text/plain": [
       "<Figure size 1200x600 with 1 Axes>"
      ]
     },
     "metadata": {
      "needs_background": "light"
     },
     "output_type": "display_data"
    }
   ],
   "source": [
    "recursiveWindowForecast(de_off_dfs[30],'2021-10-29','2021-11-05' , refDf=de_ref_df, visualWindow=10)\n"
   ]
  }
 ],
 "metadata": {
  "interpreter": {
   "hash": "6986a36ff9abca86503c5bd35118269cd53a990e839cd5391635b68506b8c830"
  },
  "kernelspec": {
   "display_name": "Python 3.9.4 64-bit ('Lab1': conda)",
   "language": "python",
   "name": "python3"
  },
  "language_info": {
   "codemirror_mode": {
    "name": "ipython",
    "version": 3
   },
   "file_extension": ".py",
   "mimetype": "text/x-python",
   "name": "python",
   "nbconvert_exporter": "python",
   "pygments_lexer": "ipython3",
   "version": "3.9.4"
  },
  "orig_nbformat": 4
 },
 "nbformat": 4,
 "nbformat_minor": 2
}
